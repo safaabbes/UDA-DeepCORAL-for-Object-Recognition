{
  "cells": [
    {
      "cell_type": "markdown",
      "metadata": {
        "id": "kht_-I7nPC9b"
      },
      "source": [
        "#Introduction\n",
        "In this project, we will build, train and evaluate a deep learning framework on a standard setting of Unsupervised Domain Adaptation (UDA).\n",
        "Unsupervised Domain Adaptation is a learning framework to transfer knowledge learned from source domains with a large number of annotated training examples to target domains with unlabeled data only. In particular, for this project we will be using a UDA benchmark consisting of two datasets from Adaptiope which is a domain adaptation dataset with 123 classes in the three domains synthetic, product and real life. We'll be using 20 classes from both Product and Real Life datasets. Each one will play the role of the source and the target then we will conduct the same experiment in the other direction. As for the Unsupervised Domain Adaptation Technique, we'll be using a Discrepancy-based Method called [DeepCORAL](https://arxiv.org/pdf/1607.01719.pdf)"
      ]
    },
    {
      "cell_type": "markdown",
      "metadata": {
        "id": "m907acDgP1BE"
      },
      "source": [
        "Let's begin by installing and importing the required libraries."
      ]
    },
    {
      "cell_type": "code",
      "execution_count": null,
      "metadata": {
        "id": "hSZrtYPME424"
      },
      "outputs": [],
      "source": [
        "#All the necessary installations and importings\n",
        "\n",
        "#Preparing Dataset utilities\n",
        "from google.colab import drive \n",
        "from zipfile import ZipFile\n",
        "from torchvision.datasets import ImageFolder\n",
        "\n",
        "#Pytorch utilities\n",
        "import numpy as np\n",
        "import statistics\n",
        "from torch.utils.data import DataLoader\n",
        "import torch\n",
        "import torchvision\n",
        "import torch.nn as nn\n",
        "import torch.nn.functional as F\n",
        "from torchvision import models\n",
        "import torchvision.transforms as tt\n",
        "from torch.utils.data import random_split\n",
        "from tqdm.notebook import tqdm, tnrange\n",
        "import pickle\n",
        "from tabulate import tabulate\n",
        "\n",
        "#Data vizualization utilities\n",
        "import matplotlib\n",
        "import matplotlib.pyplot as plt\n",
        "%matplotlib inline"
      ]
    },
    {
      "cell_type": "markdown",
      "metadata": {
        "id": "4pi4Ui1zDYxw"
      },
      "source": [
        "# Preparing Source and Target Datasets\n",
        "In this section, we will create functions to get our datasets ready, we will also make some data analysis to understand more the data we're dealing with.\n"
      ]
    },
    {
      "cell_type": "markdown",
      "metadata": {
        "id": "tNpyAQqwGDEg"
      },
      "source": [
        "##Extracting the dataset\n",
        "\n",
        "We will begin by mounting drive to access the Adaptiope dataset zipfile and extract from the product_images and real_life files of the following 20 classes: backpack, bookcase, car jack, comb, crown, file cabinet, flat iron, game controller, glasses, helicopter, ice skates, letter tray, monitor, mug, network switch, over-ear headphones, pen, purse, stand mixer and stroller. "
      ]
    },
    {
      "cell_type": "code",
      "execution_count": null,
      "metadata": {
        "id": "8H8StJYqx7ld",
        "colab": {
          "base_uri": "https://localhost:8080/"
        },
        "outputId": "a5b1a94b-0d31-451e-a396-f85f05beb1c9"
      },
      "outputs": [
        {
          "output_type": "stream",
          "name": "stdout",
          "text": [
            "Mounted at /content/gdrive\n"
          ]
        }
      ],
      "source": [
        "drive.mount('/content/gdrive')"
      ]
    },
    {
      "cell_type": "markdown",
      "metadata": {
        "id": "pxs3Jm4hyQhC"
      },
      "source": [
        "The unzipping part is run only once since we'll extract our dataset on drive and then load it using Pytorch's `ImageFolder`\n",
        "\n",
        "\n",
        "\n",
        "\n"
      ]
    },
    {
      "cell_type": "code",
      "execution_count": null,
      "metadata": {
        "id": "Y6GGqDxJU_p-"
      },
      "outputs": [],
      "source": [
        "'''\n",
        "object_names=[\"backpack\", \"bookcase\", \"car jack\", \"comb\", \"crown\", \"file cabinet\", \"flat iron\", \"game controller\",\n",
        "\"glasses\", \"helicopter\", \"ice skates\", \"letter tray\", \"monitor\", \"mug\", \"network switch\", \"over-ear headphones\", \"pen\", \"purse\",\n",
        "\"stand mixer\", \"stroller\"]\n",
        "\n",
        "with ZipFile('{Project_Path}/Adaptiope.zip', 'r') as zipObj:\n",
        "        # Get a list of all archived file names from the zip\n",
        "        listOfFileNames = zipObj.namelist()\n",
        "        for fileName in listOfFileNames:\n",
        "            #check the excluding file condition.\n",
        "            for i in range (len(object_names)):\n",
        "              if fileName.startswith('Adaptiope/real_life/{}'.format(object_names[i])) :\n",
        "                zipObj.extract(fileName, '{Project_Path}/')\n",
        "            for i in range (len(object_names)):\n",
        "              if fileName.startswith('Adaptiope/product_images/{}'.format(object_names[i])) :\n",
        "                zipObj.extract(fileName, '{Project_Path}/')\n",
        "'''      "
      ]
    },
    {
      "cell_type": "markdown",
      "metadata": {
        "id": "eRI6cC5A435O"
      },
      "source": [
        "## Data transformation \n",
        "\n",
        "In this section we will create a PyTorch dataset using `ImageFolder` with transform. \n",
        "\n",
        "Some transformations are mandatory such as:\n",
        "*   `ToTensor()`: we need to convert our images to tensors \n",
        "*   `Resize()`: we need to apply resize because our images doesn't have the same height and width and we need tensors with the same shape\n",
        "\n",
        "Others are applied for Regularization reasons which have been proven to be crucial for the good performance of our model especially in terms of generalization.\n",
        "\n",
        "2 techniques will be applied for Regularization in this part:\n",
        "\n",
        "\n",
        "1.   **Channel-wise data normalization** : `Normalize()`\n",
        "\n",
        "We will normalize the image tensors by subtracting the mean and dividing by the standard deviation across each channel. As a result, the mean of the data across each channel is 0, and standard deviation is 1. \n",
        "\n",
        "Normalizing the data prevents the values from any one channel from disproportionately affecting the losses and gradients while training, simply by having a higher or wider range of values that others.\n",
        "\n",
        "2.   **Randomized data augmentations:**\n",
        "\n",
        "We will apply randomly chosen transformations such as:\n",
        "\n",
        "\n",
        " * `RandomHorizontalFlip()` : Horizontally flip the given image randomly with a given probability.\n",
        " * `ColorJitter()` : Randomly change the brightness, contrast, saturation and hue of an image.\n",
        " \n",
        "Since the transformation will be applied randomly and dynamically each time a particular image is loaded, the model sees slightly different images in each epoch of training, which allows it to generalize better.\n",
        "\n",
        "\n",
        "\n",
        "\n",
        "\n",
        "\n",
        "\n",
        "\n"
      ]
    },
    {
      "cell_type": "code",
      "execution_count": null,
      "metadata": {
        "id": "fB9j0OCuE9CI"
      },
      "outputs": [],
      "source": [
        "def get_data(name_dataset, stats):\n",
        "  \"\"\"\n",
        "  This function creates a Pytorch dataset using ImageFolder\n",
        "\n",
        "  \"\"\"\n",
        "  # root directory\n",
        "  root_dir = \"{Project_Path}/Adaptiope/{}\".format(name_dataset)  #Insert here the path where there is the Dataset\n",
        "\n",
        "  # Compose image transformations\n",
        "  tfms = transform(stats) \n",
        "\n",
        "  # PyTorch datasets (ImageFolder)\n",
        "  ds = ImageFolder(root_dir, tfms)\n",
        "\n",
        "  return ds\n",
        "\n",
        "def transform(stats):\n",
        "  \"\"\"\n",
        "  This function applies the transformations to our images.\n",
        "\n",
        "  \"\"\"\n",
        "  data_transforms = tt.Compose([\n",
        "              tt.Resize((224, 224)), \n",
        "              tt.CenterCrop(224), #this function makes sure that the image crop is centered in the object.\n",
        "              tt.RandomHorizontalFlip(),\n",
        "              tt.ColorJitter(brightness=0.1, contrast=0.1, saturation=0.1, hue=0.1),\n",
        "              tt.ToTensor(),\n",
        "              tt.Normalize(*stats)]\n",
        "        )\n",
        "  \n",
        "  return data_transforms\n",
        "\n",
        "def get_mean_std_dataset(name_dataset):\n",
        "  \"\"\" \t\n",
        "    This function calculates the mean and standard deviation across each channel of the whole dataset\n",
        "\n",
        "  \"\"\"\n",
        "  root_dir = \"{Project_Path}/Adaptiope/{}\".format(name_dataset)    #Insert here the path where there is the Dataset\n",
        "\n",
        "  transforms= tt.Compose([tt.Resize((224, 224)), tt.CenterCrop(224), tt.ToTensor()])\n",
        "\n",
        "  dataset = ImageFolder(root=root_dir, transform=transforms)\n",
        "\n",
        "  data_loader = DataLoader(dataset, batch_size=800,shuffle=False) \t# set large batch size to get good approximate of mean, std of full dataset\n",
        "\n",
        "  mean = []\n",
        "  std = []\n",
        "\n",
        "  for i, data in enumerate(data_loader):\n",
        "      # shape is (batch_size, channels, height, width)\n",
        "      npy_image = data[0].numpy()\n",
        "\n",
        "      # compute mean, std per batch shape (3,) three channels\n",
        "      batch_mean = np.mean(npy_image, axis=(0,2,3))\n",
        "      batch_std = np.std(npy_image, axis=(0,2,3))\n",
        "\n",
        "      mean.append(batch_mean)\n",
        "      std.append(batch_std)\n",
        "\n",
        "  # shape (num_iterations, 3) -> (mean across 0th axis) -> shape (3,)\n",
        "  mean = np.array(mean).mean(axis=0) # average over batch averages\n",
        "  std = np.array(std).mean(axis=0) # average over batch stds\n",
        "  return mean , std"
      ]
    },
    {
      "cell_type": "markdown",
      "metadata": {
        "id": "wD-HSMFM7NcL"
      },
      "source": [
        "Now, we will load our Product Images and Real Life Images."
      ]
    },
    {
      "cell_type": "code",
      "execution_count": null,
      "metadata": {
        "id": "BmirtvIDTuU1"
      },
      "outputs": [],
      "source": [
        "#pi_stats = get_mean_std_dataset('product_images')   #product_images stats\n",
        "#rl_stats = get_mean_std_dataset('real_life')    # real_life stats\n",
        "pi_stats = ([0.80158234, 0.7914328 , 0.7900188 ], [0.3088366 , 0.31490284, 0.31617495]) #For convenience we saved the results after applying get_mean_std_dataset function\n",
        "rw_stats =([0.49709982, 0.44748613, 0.4095082 ],[0.2733983 , 0.26356694, 0.25914538])\n",
        "\n",
        "p_ds = get_data(\"product_images\", pi_stats) #product dataset\n",
        "rw_ds = get_data(\"real_life\", rw_stats) #real world dataset"
      ]
    },
    {
      "cell_type": "markdown",
      "metadata": {
        "id": "dzwm6c5fTxLj"
      },
      "source": [
        "##Analyzing our Datasets\n",
        "In this section we will analyze our datasets by checking the shapes and displaying some samples."
      ]
    },
    {
      "cell_type": "code",
      "execution_count": null,
      "metadata": {
        "id": "-K0IHeywRpER",
        "colab": {
          "base_uri": "https://localhost:8080/"
        },
        "outputId": "7ef57474-23b2-4d47-d743-a17c61606954"
      },
      "outputs": [
        {
          "output_type": "stream",
          "name": "stdout",
          "text": [
            "number of product samples: 2000\n",
            "number of real life samples: 2000\n",
            "Does the source and target have the same labels?: True\n",
            "image.shape: torch.Size([3, 224, 224])\n"
          ]
        }
      ],
      "source": [
        "print('number of product samples:', len(p_ds))\n",
        "print('number of real life samples:', len(rw_ds))\n",
        "print('Does the source and target have the same labels?:', p_ds.classes == rw_ds.classes)\n",
        "image0, label0 = p_ds[23]\n",
        "image1, label1 = rw_ds[523]\n",
        "print('image.shape:', image0.shape)"
      ]
    },
    {
      "cell_type": "markdown",
      "metadata": {
        "id": "8-dkAkCe8MGs"
      },
      "source": [
        "we can see that the images are converted to PyTorch tensors with the shape 3x244x244 (the dimensions represent color channels, width and height). We can use `plt.imshow` to display the images. However, `plt.imshow` expects channels to be last dimension in an image tensor, so we use the permute method to reorder the dimensions of the image. We also need to denormalize the pixels values."
      ]
    },
    {
      "cell_type": "code",
      "execution_count": null,
      "metadata": {
        "id": "GGw7sskTPoXP"
      },
      "outputs": [],
      "source": [
        "def denormalize(image, means, stds):\n",
        "  \"\"\"\n",
        "  This function denormalizes the pixel values of an image.\n",
        "\n",
        "  \"\"\"\n",
        "  means = torch.tensor(means).reshape(3, 1, 1)\n",
        "  stds = torch.tensor(stds).reshape(3, 1, 1)\n",
        "  return image * stds + means"
      ]
    },
    {
      "cell_type": "code",
      "execution_count": null,
      "metadata": {
        "id": "qzXAPTxb8Oz1",
        "colab": {
          "base_uri": "https://localhost:8080/"
        },
        "outputId": "7a176891-7835-478d-9915-986f92532a55"
      },
      "outputs": [
        {
          "output_type": "stream",
          "name": "stdout",
          "text": [
            "Label: backpack\n"
          ]
        },
        {
          "output_type": "display_data",
          "data": {
            "text/plain": [
              "<Figure size 432x288 with 1 Axes>"
            ],
            "image/png": "[encoded data removed]"
          },
          "metadata": {
            "needs_background": "light"
          }
        }
      ],
      "source": [
        "denorm_image = denormalize(image0, *pi_stats)\n",
        "plt.imshow(denorm_image.permute(1, 2, 0), cmap='gray')\n",
        "print('Label:', p_ds.classes[label0])"
      ]
    },
    {
      "cell_type": "code",
      "execution_count": null,
      "metadata": {
        "id": "0KBZAe-KKRE8",
        "colab": {
          "base_uri": "https://localhost:8080/"
        },
        "outputId": "82999dfa-5c6b-41e0-ebe2-bf404e24ed74"
      },
      "outputs": [
        {
          "output_type": "stream",
          "name": "stdout",
          "text": [
            "Label: file cabinet\n"
          ]
        },
        {
          "output_type": "display_data",
          "data": {
            "text/plain": [
              "<Figure size 432x288 with 1 Axes>"
            ],
            "image/png": "[encoded data removed]"
          },
          "metadata": {
            "needs_background": "light"
          }
        }
      ],
      "source": [
        "denorm_image = denormalize(image1, *rw_stats)\n",
        "plt.imshow(denorm_image.permute(1, 2, 0), cmap='gray')\n",
        "print('Label:', rw_ds.classes[label1])"
      ]
    },
    {
      "cell_type": "markdown",
      "metadata": {
        "id": "WaYPjbA9XHWy"
      },
      "source": [
        "##Create DataLoaders\n",
        "\n",
        "We'll create a function that splits our datasets into train and test. As the Assignment suggests, we'll make an 80-20% split of our datasets."
      ]
    },
    {
      "cell_type": "code",
      "execution_count": null,
      "metadata": {
        "id": "J4TwA1-UW-TD"
      },
      "outputs": [],
      "source": [
        "def split_dl(ds, batch_size, test_pct=0.2):\n",
        "  \"\"\"\n",
        "  This function creates train and test DataLoaders.\n",
        "\n",
        "  \"\"\"\n",
        "  random_seed = 76 #random seed insures that we always get the same split so that we always train and test on the same images\n",
        "  torch.manual_seed(random_seed)\n",
        "  test_size = int(test_pct * len(ds))\n",
        "  train_ds, test_ds = random_split(ds, [len(ds) - test_size, test_size])\n",
        "\n",
        "  # PyTorch Data Loaders\n",
        "  train_dl = DataLoader(train_ds, batch_size, shuffle=True)\n",
        "  test_dl = DataLoader(test_ds, batch_size*2) #We're increasing the batch size since we only use the test dataloader in the evaluation that requires less computation (No grad)\n",
        "\n",
        "  return train_dl, test_dl"
      ]
    },
    {
      "cell_type": "markdown",
      "metadata": {
        "id": "lGxUI1JRLtkD"
      },
      "source": [
        "# Using a GPU\n",
        "Considering the sizes of the models and datasets, we need to use GPUs to train our models within a reasonable amount of time. GPUs contain hundreds of cores optimized for performing expensive matrix operations on floating-point numbers quickly, making them ideal for training deep neural networks. "
      ]
    },
    {
      "cell_type": "markdown",
      "metadata": {
        "id": "FE3TcDZ462SJ"
      },
      "source": [
        "We can check if a GPU is available using `torch.cuda.is_available`."
      ]
    },
    {
      "cell_type": "code",
      "execution_count": null,
      "metadata": {
        "id": "G7WkSSTFLt-u"
      },
      "outputs": [],
      "source": [
        "def get_default_device():\n",
        "    \"\"\"\n",
        "    Pick GPU if available, else CPU\n",
        "    \n",
        "    \"\"\"\n",
        "    if torch.cuda.is_available():\n",
        "        return torch.device('cuda')\n",
        "    else:\n",
        "        return torch.device('cpu')"
      ]
    },
    {
      "cell_type": "code",
      "execution_count": null,
      "metadata": {
        "id": "bqQUtUFJxJx9",
        "colab": {
          "base_uri": "https://localhost:8080/"
        },
        "outputId": "f4b07daf-8ddd-4430-a068-03034b812b07"
      },
      "outputs": [
        {
          "output_type": "execute_result",
          "data": {
            "text/plain": [
              "device(type='cuda')"
            ]
          },
          "metadata": {},
          "execution_count": 12
        }
      ],
      "source": [
        "device = get_default_device()\n",
        "device"
      ]
    },
    {
      "cell_type": "markdown",
      "metadata": {
        "id": "lPuxdbw17URK"
      },
      "source": [
        "Next, let's define a function that can move data and model to a chosen device."
      ]
    },
    {
      "cell_type": "code",
      "execution_count": null,
      "metadata": {
        "id": "A_GL6IHFxQRl"
      },
      "outputs": [],
      "source": [
        "def to_device(data, device):\n",
        "    \"\"\"\n",
        "    Move tensors to chosen device\n",
        "    \n",
        "    \"\"\"\n",
        "    if isinstance(data, (list,tuple)):\n",
        "        return [to_device(x, device) for x in data]\n",
        "    return data.to(device, non_blocking=True)"
      ]
    },
    {
      "cell_type": "markdown",
      "metadata": {
        "id": "P2o_0Z0D7X-6"
      },
      "source": [
        "Finally, we define a DeviceDataLoader class to wrap our existing data loaders and move batches of data to the selected device."
      ]
    },
    {
      "cell_type": "code",
      "execution_count": null,
      "metadata": {
        "id": "VRAQyy3sxleM"
      },
      "outputs": [],
      "source": [
        "class DeviceDataLoader():\n",
        "    \"\"\"\n",
        "    Wrap a dataloader to move data to a device\n",
        "    \n",
        "    \"\"\"\n",
        "    def __init__(self, dl, device):\n",
        "        self.dl = dl\n",
        "        self.device = device\n",
        "        \n",
        "    def __iter__(self):\n",
        "        \"\"\"Yield a batch of data after moving it to device\"\"\"\n",
        "        for b in self.dl: \n",
        "            yield to_device(b, self.device) #The yield keyword in Python is used to create a generator function that can be used within a for loop,\n",
        "\n",
        "    def __len__(self):\n",
        "        \"\"\"Number of batches\"\"\"\n",
        "        return len(self.dl)"
      ]
    },
    {
      "cell_type": "markdown",
      "metadata": {
        "id": "1L4CTpTz_ur6"
      },
      "source": [
        "#Optimizer\n",
        "We'll create a function for the optimizer we'll be using in the training. Since we're using pre-trained models (AlexNet, ResNet18) we should apply a different learning rate to the frozen layers and the ones that will be trained from scratch (that requires a higher learning rate)"
      ]
    },
    {
      "cell_type": "code",
      "execution_count": null,
      "metadata": {
        "id": "PgLYxxM8OmB9"
      },
      "outputs": [],
      "source": [
        "def get_optimizer(model, lr, model_opt, opt, wd, momentum):\n",
        "  \"\"\"\n",
        "   we will create two groups of weights, one for the newly initialized layer\n",
        "   and the other for rest of the layers of the network\n",
        "\n",
        "  \"\"\"\n",
        "  \n",
        "  final_layer_weights = []\n",
        "  rest_of_the_net_weights = []\n",
        "  \n",
        "  # iterate through the layers of the network \n",
        "  for name, param in model.named_parameters():\n",
        "    if model_opt == 'alexnet':    #if the model we're using is alexnet\n",
        "      if name.startswith('classifier.6'):\n",
        "        final_layer_weights.append(param)\n",
        "      else:\n",
        "        rest_of_the_net_weights.append(param)\n",
        "    elif model_opt == 'resnet18':   #if the model we're using is resnet18\n",
        "      if name.startswith('fc'):\n",
        "        final_layer_weights.append(param)\n",
        "      else:\n",
        "        rest_of_the_net_weights.append(param)\n",
        "\n",
        "  # assign the distinct learning rates to each group of parameters\n",
        "  if opt=='SGD':\n",
        "    optimizer = torch.optim.SGD([\n",
        "        {'params': rest_of_the_net_weights},\n",
        "        {'params': final_layer_weights, 'lr': lr}\n",
        "    ], lr=lr / 10, weight_decay=wd, momentum=momentum)\n",
        "  elif opt=='Adam':\n",
        "    optimizer = torch.optim.Adam([\n",
        "        {'params': rest_of_the_net_weights},\n",
        "        {'params': final_layer_weights, 'lr': lr}\n",
        "    ], lr=lr / 10, weight_decay=wd)\n",
        "  \n",
        "  return optimizer"
      ]
    },
    {
      "cell_type": "markdown",
      "metadata": {
        "id": "vz2hglH7RFG6"
      },
      "source": [
        "#Initialize Pre-Trained Models \n",
        "In this section, we'll create our model architecture. Since we have few samples to train on, it is preferable to use pre-trained models. We'll be using 2 pre-trained models: AlexNet then ResNet18."
      ]
    },
    {
      "cell_type": "markdown",
      "metadata": {
        "id": "1C7v4rzn_QxL"
      },
      "source": [
        "###AlexNet Model Definiton\n",
        "We'll be using AlexNet's architecture that consists of five convolutional layers with a combination of max pooling followed by 3 fully connected layers and they use Relu activation in each of these layers except the output layer. Furthermore, the model is trained on the Imagenet dataset which has almost 14 million images across a thousand classes. We'll load the trained weights and biases of all layers excepts the last fully connected layer."
      ]
    },
    {
      "cell_type": "markdown",
      "metadata": {
        "id": "nkylslfwdsSK"
      },
      "source": [
        "We will adapt AlexNet to our task by creating a new function `initialize_alexnet` where we reinitialize the last layer of AlexNet."
      ]
    },
    {
      "cell_type": "code",
      "execution_count": null,
      "metadata": {
        "id": "p9rgwlOv_YMS"
      },
      "outputs": [],
      "source": [
        "def initialize_alexnet(num_classes):\n",
        "\n",
        "\t# load the pre-trained Alexnet\n",
        "\talexnet = torchvision.models.alexnet(pretrained=True)\n",
        "\n",
        "\t# get the number of neurons in the second last layer\n",
        "\tin_features = alexnet.classifier[6].in_features\n",
        "\n",
        "\t# re-initalize the output layer\n",
        "\talexnet.classifier[6] = torch.nn.Linear(in_features=in_features, out_features=num_classes)\n",
        "\talexnet.classifier[6].weight.data.normal_(0.0, 0.005) # initiliaze last fully connected layer weights according to the CORAL paper (N(0, 0.005))\n",
        "\n",
        "\treturn alexnet"
      ]
    },
    {
      "cell_type": "markdown",
      "metadata": {
        "id": "yhVtun3W_mda"
      },
      "source": [
        "###ResNet18 Model Definition\n",
        "We'll then experiment with the ResNet18's architecture that consists of 72-layer architecture with 18 deep layers.  \n",
        "*ResNet* follows VGG’s full  convolutional layer design. The residual block has two  convolutional layers with the same number of output channels. Each convolutional layer is followed by a batch normalization layer and a ReLU activation function. Then, we skip these two convolution operations and add the input directly before the final ReLU activation function.  \n",
        "The architecture of this network aimed at enabling large amounts of convolutional layers to function efficiently.  \n",
        "We'll load the trained weights and biases of all layers excepts the last fully connected layer."
      ]
    },
    {
      "cell_type": "markdown",
      "metadata": {
        "id": "evGi-LXVB6XE"
      },
      "source": [
        "We will adapt ResNet18 to our task by creating a new function `initialize_resnet18` where we reinitialize the last layer of ResNet18."
      ]
    },
    {
      "cell_type": "code",
      "execution_count": null,
      "metadata": {
        "id": "hCmjgLXIT_ag"
      },
      "outputs": [],
      "source": [
        "def initialize_resnet18(num_classes):\n",
        "\n",
        "  # load the pre-trained Alexnet\n",
        "  resnet18 = torchvision.models.resnet18(pretrained=True)\n",
        "  \n",
        "  # get the number of neurons in the second last layer\n",
        "  in_features = resnet18.fc.in_features\n",
        "  \n",
        "  # re-initalize the output layer\n",
        "  resnet18.fc = torch.nn.Linear(in_features=in_features, out_features=num_classes)\n",
        "  resnet18.fc.weight.data.normal_(0.0, 0.005) # initiliaze last fully connected layer weights according to the CORAL paper (N(0, 0.005))\n",
        "  \n",
        "  return resnet18"
      ]
    },
    {
      "cell_type": "markdown",
      "metadata": {
        "id": "TNoEY9BSe9W0"
      },
      "source": [
        "#Source-Only Model Training and Testing\n",
        "Here we'll create a function `training_step` that trains and `test_step` that tests our model and outputs the loss and accuracy cumulated after one epoch."
      ]
    },
    {
      "cell_type": "code",
      "execution_count": null,
      "metadata": {
        "id": "CKnSilAitgUz"
      },
      "outputs": [],
      "source": [
        "def training_step(model, data_loader, optimizer):\n",
        "\n",
        "  samples = 0.\n",
        "  cumulative_loss = 0.\n",
        "  cumulative_accuracy = 0.\n",
        "\n",
        "  # set the network to training mode: particularly important when using dropout!\n",
        "  model.train() \n",
        "\n",
        "  # iterate over the training set\n",
        "  for batch_idx in tnrange(len(data_loader)):\n",
        "\n",
        "    data, labels = next(iter(data_loader))\n",
        "      \n",
        "    # forward pass\n",
        "    outputs = model(data)\n",
        "\n",
        "    # loss computation\n",
        "    loss = F.cross_entropy(outputs,labels)\n",
        "\n",
        "    # backward pass\n",
        "    loss.backward()\n",
        "    \n",
        "    # parameters update\n",
        "    optimizer.step()\n",
        "    \n",
        "    # gradients reset\n",
        "    optimizer.zero_grad()\n",
        "\n",
        "    # fetch prediction and loss value\n",
        "    samples += data.shape[0]\n",
        "    cumulative_loss += loss.item()\n",
        "    _, predicted = outputs.max(dim=1) # max() returns (maximum_value, index_of_maximum_value)\n",
        "\n",
        "    # compute training accuracy\n",
        "    cumulative_accuracy += predicted.eq(labels).sum().item()\n",
        "\n",
        "  return cumulative_loss/samples, cumulative_accuracy/samples*100\n",
        "\n",
        "def test_step(model, data_loader):\n",
        "\n",
        "  samples = 0.\n",
        "  cumulative_loss = 0.\n",
        "  cumulative_accuracy = 0.\n",
        "\n",
        "  # set the network to evaluation mode\n",
        "  model.eval() \n",
        "\n",
        "  # disable gradient computation (we are only testing, we do not want our model to be modified in this step!)\n",
        "  with torch.no_grad():\n",
        "\n",
        "    # iterate over the test set\n",
        "    for batch_idx, (data, labels) in enumerate(data_loader):\n",
        "      \n",
        "      # forward pass\n",
        "      outputs = model(data)\n",
        "\n",
        "      # loss computation\n",
        "      loss = F.cross_entropy(outputs, labels)\n",
        "\n",
        "      # fetch prediction and loss value\n",
        "      samples+=data.shape[0]\n",
        "      cumulative_loss += loss.item() # Note: the .item() is needed to extract scalars from tensors\n",
        "      _, predicted = outputs.max(1)\n",
        "\n",
        "      # compute accuracy\n",
        "      cumulative_accuracy += predicted.eq(labels).sum().item()\n",
        "\n",
        "  return cumulative_loss/samples, cumulative_accuracy/samples*100"
      ]
    },
    {
      "cell_type": "markdown",
      "source": [
        "Finally, we create our `fit_source_only` model that trains and tests our model and outputs the results after each epoch. We'll contain these informations in a history list to create plots later on."
      ],
      "metadata": {
        "id": "js0mdkMLHUe0"
      }
    },
    {
      "cell_type": "code",
      "execution_count": null,
      "metadata": {
        "id": "CFdjugLqWi27"
      },
      "outputs": [],
      "source": [
        "def fit_source_only( model, epochs, s_train_loader, s_test_loader, t_test_loader, lr, weight_decay=0, model_opt = 'alexnet', opt='SGD', momentum=0 ):\n",
        "  \"\"\"\n",
        "\tThis function trains and test the model. It outputs the results after each epoch.\n",
        "\n",
        "\t\"\"\"  \n",
        "  so_history = []\n",
        "\n",
        "  # choose optimizer depending on the model chosen\n",
        "  optimizer = get_optimizer(model, lr, model_opt, opt, weight_decay, momentum)\n",
        "\n",
        "  # perform a preliminar step\n",
        "  print('Before training:')\n",
        "  s_test_loss, s_test_accuracy = test_step(model,s_test_loader)\n",
        "  t_test_loss, t_test_accuracy = test_step(model,t_test_loader)\n",
        "  print('Epoch: {:d}'.format(0))\n",
        "  print('\\t Source Test loss {:.5f}, Source Test accuracy {:.2f}'.format(s_test_loss, s_test_accuracy))\n",
        "  print('\\t Target Test loss {:.5f}, Target Test accuracy {:.2f}'.format(t_test_loss, t_test_accuracy))\n",
        "  print('-----------------------------------------------------------------------')\n",
        "  so_history.append({\n",
        "                'Source_Train': {'s_train_loss': 0, 's_train_acc': 0 },\n",
        "                'Source_Test': {'s_test_loss': s_test_loss, 's_test_acc': s_test_accuracy }, \n",
        "                'Target_Test': {'t_test_loss': t_test_loss, 't_test_acc': t_test_accuracy }\n",
        "                })\n",
        "\n",
        "  # Test and Train for each epoch\n",
        "  for epoch in range(epochs):\n",
        "    train_loss, train_accuracy = training_step(model,s_train_loader, optimizer)\n",
        "    s_test_loss, s_test_accuracy = test_step(model,s_test_loader)\n",
        "    t_test_loss, t_test_accuracy = test_step(model,t_test_loader)\n",
        "\n",
        "    # Print Results\n",
        "    print('Epoch: {:d}'.format(epoch+1))\n",
        "    print('\\t Source Train loss {:.5f}, Source Train accuracy {:.2f}'.format(train_loss, train_accuracy))\n",
        "    print('\\t Source Test loss {:.5f}, Source Test accuracy {:.2f}'.format(s_test_loss, s_test_accuracy))\n",
        "    print('\\t Target Test loss {:.5f}, Target Test accuracy {:.2f}'.format(t_test_loss, t_test_accuracy))\n",
        "    print('-----------------------------------------------------------------------')\n",
        "\n",
        "    # Save history \n",
        "    so_history.append({'Source_Train': {'s_train_loss': train_loss, 's_train_acc': train_accuracy },\n",
        "                    'Source_Test': {'s_test_loss': s_test_loss, 's_test_acc': s_test_accuracy },\n",
        "                    'Target_Test': {'t_test_loss': t_test_loss, 't_test_acc': t_test_accuracy }\n",
        "                    })\n",
        "\n",
        "  return so_history"
      ]
    },
    {
      "cell_type": "markdown",
      "metadata": {
        "id": "QrhP1aeCMgZA"
      },
      "source": [
        "#Unsupervised Domain Adaptation Model: DeepCORAL\n",
        "We finally reach our UDA part where we will adopt the [DeepCORAL](https://arxiv.org/pdf/1607.01719.pdf) method.\n",
        "\n",
        "Unsupervised Domain Adaptation is used so that instead of collecting labelled data and training a new classifier for every possible scenario, UDA\n",
        "methods try to compensate for the degradation in performance\n",
        "by transferring knowledge from labelled source domains to unlabelled target domains.\n",
        "\n",
        "Before DeepCORAL sees the light of the day, a previous research was established with the name of CORAL which aligns the second-order statistics\n",
        "of the source and target distributions with a linear transformation. However, it relies on a linear transformation and is not end-to-end: it needs to\n",
        "first extract features, apply the transformation, and then train an SVM classifier in a separate step.\n",
        "\n",
        "As one might expect, DeepCORAL is an extension of CORAL which incorporates it directly into deep networks by constructing a differentiable loss function that minimizes the difference between source and target correlations: the CORAL loss.\n",
        "\n",
        "Compared to CORAL, this approach learns a non-linear transformation that is more powerful and also works seamlessly with deep CNNs.\n",
        "\n",
        "\n"
      ]
    },
    {
      "cell_type": "markdown",
      "metadata": {
        "id": "pN2IfMFU7twb"
      },
      "source": [
        "![image.png](https://ssarcandy.tw/img/2017-10-31/1.png) "
      ]
    },
    {
      "cell_type": "markdown",
      "metadata": {
        "id": "noBdeuwTem0S"
      },
      "source": [
        "##Coral Loss Definition\n",
        "The CORAL loss is defined as the distance between the second-order statistics\n",
        "(covariances) of the source and target features:\n",
        "\n",
        "##$$ \\textit{l}_{CORAL} = \\frac{1}{4d^{2}}||C_{S}-C_{T}||^{2}_{F}$$\n",
        "\n",
        "where the norm is the squared matrix Frobenius. The covariance matrices of the source and target data are given by:\n",
        "\n",
        "\n",
        "\n",
        "##$$ \\textit{C}_{S} = \\frac{1}{n_{S}-1}(D^{T}_{S}D_{S}-\\frac{1}{n_{S}}(1^{T}D_{S})^{T}(1^{T}D_{S}))$$\n",
        "\n",
        "##$$ \\textit{C}_{T} = \\frac{1}{n_{T}-1}(D^{T}_{T}D_{T}-\\frac{1}{n_{T}}(1^{T}D_{T})^{T}(1^{T}D_{T}))$$\n",
        "\n",
        "Minimizing the classification loss itself is likely to lead to overfitting to the source domain, causing reduced performance on the target domain. On the other hand, minimizing the CORAL loss alone might lead to degenerated features. For that reason, joint training with both the classification loss and CORAL loss is likely to learn features that work well on the target domain:\n",
        "\n",
        "##$$ \\textit{l} = \\textit{l}_{CLASS} + \\sum_{i=1}^t \\lambda_{i} l_{CORAL} $$\n",
        "In this section, we'll create a CORAL Loss Function based on the first and second equations shown below.  \n",
        "\n",
        "Then we'll redefine our testing step and apply the total loss defined by the third equation in the training step function. We have to note that λ is a hyperparameter that controls the weight that trades off the adaptation with classification accuracy on the source domain. We'll implement it in a way after each epoch $ \\lambda = \\frac{epoch + 1}{\\lambda} $ .\n",
        "  \n",
        "  These two losses play counterparts and reach an equilibrium at the end of training, where the final features are expected to work well on the target domain.\n",
        "\n",
        "\n"
      ]
    },
    {
      "cell_type": "code",
      "execution_count": null,
      "metadata": {
        "id": "9Nb5LQTNHB2n"
      },
      "outputs": [],
      "source": [
        "def CORAL_loss(output_source, output_target):\n",
        "  '''\n",
        "  this function computes the CORAL loss as defined in the research paper\n",
        "\n",
        "  '''\n",
        "  d = output_source.size(1) # d-dimensional vectors (same for source, target = num_classes)\n",
        "  source_covariance = batch_covariance(output_source)\n",
        "  target_covariance = batch_covariance(output_target)\n",
        "  loss = torch.norm(torch.mm((source_covariance-target_covariance),(source_covariance-target_covariance)), p=\"fro\")\n",
        "  loss = loss/(4*d*d)\n",
        "\n",
        "  return loss\n",
        "\n",
        "def batch_covariance(output):\n",
        "  '''\n",
        "  This function computes the covariance matrix as defined in the research paper\n",
        "\n",
        "  '''\n",
        "  n = output.size(0)                                                             #batch_size\n",
        "  ones_vector = torch.ones(n).reshape(1, n).to(device=device)                    #1xbatch_size\n",
        "  one_onto_D = torch.mm(ones_vector, output)                                     #1xnum_classes\n",
        "  mult_right_terms = torch.mm(one_onto_D.t(), one_onto_D)                        #num_classesxnum_classes\n",
        "  mult_right_terms = torch.div(mult_right_terms, n)                              #num_classesxnum_classes\n",
        "  mult_left_terms = torch.mm(output.t(), output)                                 #num_classesxnum_classes\n",
        "  covariance_matrix= 1/(n-1) * torch.add(mult_left_terms,-1*(mult_right_terms))  #num_classesxnum_classes\n",
        "\n",
        "  return covariance_matrix"
      ]
    },
    {
      "cell_type": "markdown",
      "metadata": {
        "id": "XoOTfelUeqvF"
      },
      "source": [
        "## DeepCORAL Model Training and Testing"
      ]
    },
    {
      "cell_type": "markdown",
      "source": [
        "Here we'll re-define our training step by implementing the DeepCORAL UDA method. Two Forward passes will be introduced one for the source and one for the target then a new loss will be computed using both the CrossEntropy for the classification loss and the CORAL loss.\n",
        "As for the testing step, we'll retain the same one defined in the Source-Only Section."
      ],
      "metadata": {
        "id": "JerMGG6ZIyS2"
      }
    },
    {
      "cell_type": "code",
      "execution_count": null,
      "metadata": {
        "id": "VMe0fkWh2Bg7"
      },
      "outputs": [],
      "source": [
        "def coral_training_step(model, source_train, target_train, target_test, optimizer, lambda_factor):\n",
        "\n",
        "  samples = 0.\n",
        "  cumulative_class_loss = 0.\n",
        "  cumulative_coral_loss = 0.\n",
        "  cumulative_total_loss = 0.\n",
        "\n",
        "  # set the network to training mode: particularly important when using dropout!\n",
        "  model.train() \n",
        "\n",
        "  # iterate over the training set\n",
        "  for batch_idx in tnrange(len(source_train)): #we can take either the source or target data as long as they have the same batch size\n",
        "\n",
        "    # fetch data in batches\n",
        "    source_data, source_label = next(iter(source_train)) \n",
        "    target_data, _ = next(iter(target_train)) # unsupervised learning  \n",
        "\n",
        "    # forward pass\n",
        "    output_source = model(source_data)\n",
        "    output_target = model(target_data)\n",
        "\n",
        "    # loss computations\n",
        "    class_loss = F.cross_entropy(output_source, source_label)  # Calculate classification loss\n",
        "    coral_loss = CORAL_loss(output_source, output_target) #Calculate CORAL loss\n",
        "    total_loss = class_loss + lambda_factor*coral_loss #Total loss\n",
        "\n",
        "    # backward pass\n",
        "    total_loss.backward()\n",
        "    \n",
        "    # parameters update\n",
        "    optimizer.step()\n",
        "    \n",
        "    # gradients reset\n",
        "    optimizer.zero_grad()\n",
        "\n",
        "    # fetch prediction and loss values\n",
        "    samples += source_data.shape[0] #we can take either the source or target data as long as they have the same batch size\n",
        "    cumulative_class_loss += class_loss.item()\n",
        "    cumulative_coral_loss += coral_loss.item()\n",
        "    cumulative_total_loss += total_loss.item()\n",
        "\n",
        "\n",
        "  return cumulative_class_loss/samples, cumulative_coral_loss/samples,cumulative_total_loss/samples\n"
      ]
    },
    {
      "cell_type": "markdown",
      "source": [
        "Finally, we create our `fit_deep_coral` function that trains our model supervisedly on the source and unsupervisedly on the target and outputs the results after each epoch. We'll contain these informations in a history list to create plots later on."
      ],
      "metadata": {
        "id": "p_QOWR_SJU3R"
      }
    },
    {
      "cell_type": "code",
      "execution_count": null,
      "metadata": {
        "id": "ZFPPb3Xs7FUi"
      },
      "outputs": [],
      "source": [
        "def fit_deep_coral( model, epochs, s_train_loader, s_test_loader, t_train_loader, t_test_loader, lr, weight_decay=0, model_opt= 'alexnet', opt='SGD', momentum=0 ):\n",
        "  \"\"\"\n",
        "\tThis function trains and test the model. It outputs the results after each epoch.\n",
        "\n",
        "\t\"\"\"  \n",
        "  uda_history = []\n",
        "\n",
        "  # choose optimizer depending on the model chosen\n",
        "  optimizer = get_optimizer(model,lr, model_opt, opt, weight_decay, momentum)\n",
        "  \n",
        "  # perform a preliminar step\n",
        "  print('Before training:')\n",
        "  t_test_loss, t_test_accuracy = test_step(model,t_test_loader)\n",
        "  print('Epoch: {:d}'.format(0))\n",
        "  print('\\t Target Test loss {:.5f}, Target Test accuracy {:.2f}'.format(t_test_loss, t_test_accuracy))\n",
        "  print('-----------------------------------------------------------------------')\n",
        "  uda_history.append({\n",
        "                      'Losses': {'class_loss': 0, 'coral_loss': 0, 'total_loss': 0 },\n",
        "                      'Target_Test': {'t_test_loss': t_test_loss, 't_test_acc': t_test_accuracy }})\n",
        "\n",
        "  # Test and Train for each epoch\n",
        "  for epoch in range(epochs):\n",
        "    lambda_factor = (epoch + 1) / epochs #Lambda factor hyperparameter changes after each epoch\n",
        "    class_loss, coral_loss, total_loss = coral_training_step(model,s_train_loader, t_train_loader, t_test_loader, optimizer, lambda_factor)\n",
        "    t_test_loss, t_test_accuracy = test_step(model,t_test_loader)\n",
        "\n",
        "    # Print Results\n",
        "    print('Epoch: {:d}'.format(epoch+1))\n",
        "    print('\\t Classification Loss {:.5f}, CORAL Loss {:.5f}, Classification Loss {:.5f}'.format(class_loss, coral_loss, total_loss))\n",
        "    print('\\t Target Test loss {:.5f}, Target Test accuracy {:.2f}'.format(t_test_loss, t_test_accuracy))\n",
        "    print('-----------------------------------------------------------------------')\n",
        "\n",
        "    # Save history \n",
        "    uda_history.append({'Losses': {'class_loss': class_loss, 'coral_loss': coral_loss, 'total_loss': total_loss },\n",
        "                    'Target_Test': {'t_test_loss': t_test_loss, 't_test_acc': t_test_accuracy }\n",
        "                    })\n",
        "\n",
        "  return uda_history\n"
      ]
    },
    {
      "cell_type": "markdown",
      "source": [
        "#Models Initialization and Performance\n",
        "In this section we will start training and testing our source-only and UDA models while changing each time the hyperparameters until we find the best results on our target loss and accuracy. \n",
        "\n",
        "\n",
        "\n"
      ],
      "metadata": {
        "id": "Rs3a9W_5NeKy"
      }
    },
    {
      "cell_type": "markdown",
      "source": [
        "We will also create two plot functions `plot_losses` and `plot_accuracies` to show the results of the different approaches and models.\n"
      ],
      "metadata": {
        "id": "3pIFJiNg3zg4"
      }
    },
    {
      "cell_type": "code",
      "source": [
        "def plot_losses(so_history, uda_history):\n",
        "  \"\"\"\n",
        "  This function plots the SO and UDA histories of the losses\n",
        "\n",
        "  \"\"\"\n",
        "  so_loss = [x['Target_Test']['t_test_loss']  for x in so_history]\n",
        "  s_loss = [x['Source_Test']['s_test_loss']  for x in so_history]\n",
        "  t_loss = [x['Source_Train']['s_train_loss']  for x in so_history]\n",
        "  uda_loss = [x['Target_Test']['t_test_loss']  for x in uda_history]\n",
        "\n",
        "  plt.plot(t_loss, '-g')\n",
        "  plt.plot(s_loss, '-r')\n",
        "  plt.plot(so_loss, '-b')\n",
        "  plt.plot(uda_loss, '-k')\n",
        "  \n",
        "  plt.xlabel('epoch')\n",
        "  plt.ylabel('loss')\n",
        "  plt.legend(['Source_Train', 'Source_Test', 'Target_Test ',  'UDA_Test'])\n",
        "  plt.title('Loss vs. No. of epochs');\n",
        "\n",
        "def plot_class_coral(uda_history):\n",
        "  \"\"\"\n",
        "  This function plots the coral and classification losses\n",
        "\n",
        "  \"\"\"\n",
        "\n",
        "  class_loss = [x['Losses']['class_loss']  for x in uda_history]\n",
        "  coral_loss = [x['Losses']['coral_loss']  for x in uda_history]\n",
        "  plt.plot(class_loss, '-b')\n",
        "  plt.plot(coral_loss, '-r')\n",
        "  plt.xlabel('epoch')\n",
        "  plt.ylabel('loss')\n",
        "  plt.legend(['class_loss ', 'coral_loss'])\n",
        "  plt.title('Loss vs. No. of epochs');\n",
        "\n",
        "def plot_accuracies(so_history, uda_history, ub_history):\n",
        "  \"\"\"\n",
        "  This function plots the accuracies of SO and UDA.\n",
        "\n",
        "  \"\"\"\n",
        "  ub_accuracy = [x['Source_Test']['s_test_acc'] for x in ub_history] #Upper Bound \n",
        "  plt.plot(ub_accuracy, '-g')\n",
        "  uda_accuracy = [x['Target_Test']['t_test_acc'] for x in uda_history] #Target Test With UDA\n",
        "  plt.plot(uda_accuracy, '-r')\n",
        "  so_accuracy = [x['Target_Test']['t_test_acc'] for x in so_history] #Target Test Without UDA\n",
        "  plt.plot(so_accuracy, '-b')\n",
        " \n",
        "  plt.xlabel('epoch')\n",
        "  plt.ylabel('accuracy')\n",
        "  plt.legend(['Upper Bound', 'DeepCORAL', 'Source Only'])\n",
        "  plt.title('Accuracies vs. No. of epochs');"
      ],
      "metadata": {
        "id": "iECvNqUOOhG5"
      },
      "execution_count": null,
      "outputs": []
    },
    {
      "cell_type": "markdown",
      "source": [
        "We'll also create two functions to save and load our histories in a pickle file."
      ],
      "metadata": {
        "id": "2EgGfWou5uf6"
      }
    },
    {
      "cell_type": "code",
      "source": [
        "def save_log(obj, path):\n",
        "\twith open(path, 'wb') as f:\n",
        "\t\tpickle.dump(obj, f)\n",
        "  \n",
        "#insert your path below\n",
        "def load_log(name):\n",
        "  with open('{Project_Path}//History_logs/{}.pickle'.format(name), 'rb') as f: #Insert here the path where you have your logs saved (e.g {your_path}/History_Logs)\n",
        "    x = pickle.load(f)\n",
        "  return x"
      ],
      "metadata": {
        "id": "5gwG-0hMhnRz"
      },
      "execution_count": null,
      "outputs": []
    },
    {
      "cell_type": "markdown",
      "source": [
        "Now, we'll create our DataLoaders and models and move them to the GPU."
      ],
      "metadata": {
        "id": "h3BXHAiUXSWO"
      }
    },
    {
      "cell_type": "code",
      "source": [
        "#Split Datasets into Train and Test\n",
        "p_train, p_test = split_dl(p_ds, 64)       # Product Domain dataloaders\n",
        "rw_train, rw_test = split_dl(rw_ds, 64)    # Real World Domain dataloaders \n",
        "\n",
        "#Move DataLoaders to GPU\n",
        "p_train = DeviceDataLoader(p_train, device)\n",
        "p_test = DeviceDataLoader(p_test, device)\n",
        "rw_train = DeviceDataLoader(rw_train, device)\n",
        "rw_test = DeviceDataLoader(rw_test, device)\n",
        "\n",
        "#Initialize models and move to GPU\n",
        "alexnet = initialize_alexnet(num_classes=20).to(device)\n",
        "resnet18 = initialize_resnet18(num_classes=20).to(device)"
      ],
      "metadata": {
        "id": "NhjdxvJiPpLs",
        "colab": {
          "base_uri": "https://localhost:8080/",
          "height": 116,
          "referenced_widgets": [
            "74a97e82e3e54658b1ef553729527ec3",
            "7bce5e8501b1437daf35e5ed698735a3",
            "2df38dea2a7a42ddb8e81957d30ebff8",
            "4cbba28c63d5405e9e7620bbd5a75d37",
            "2fd10fcc424c45eb858240ce4d8acb31",
            "3822c80c39d8498092c1abd9faef79a2",
            "c1a135ec9cc443e6be469c39a2265686",
            "c12e9acfddb4439cbcf3a999dd24b0ff",
            "11b60c43bff6492bbb338a0fa42a8737",
            "a038c71050144c5a984af5b0666c6a9d",
            "f5af2af7a68e49da91f88d6b188655e8",
            "632c1c53c07145b8b08dfcea7d8e37fa",
            "18145cb9ccdc400fb50bfb6c06778d87",
            "680e0e46da264e45b5437e910e8d170f",
            "d6ff083395e74d0ca40d1dc88ba2c441",
            "7dec7b584da54c009b2ba97c65265fd7",
            "377430a21eb04dc3b7d14038fc8bf772",
            "6406c691b500411b8dd0f10da03d8107",
            "1632f1bad55241ae8916171de35f5600",
            "dd45ae63b2534cb38ae66441cb2b90a1",
            "9b073cf5707948a48a7b8e1f4ac3c21d",
            "4b2a3ea7bf7341a89dcb5e8c39de3cfd"
          ]
        },
        "outputId": "5cce4e33-c60a-406c-dc35-3528bcd9d956"
      },
      "execution_count": null,
      "outputs": [
        {
          "output_type": "stream",
          "name": "stderr",
          "text": [
            "Downloading: \"https://download.pytorch.org/models/alexnet-owt-7be5be79.pth\" to /root/.cache/torch/hub/checkpoints/alexnet-owt-7be5be79.pth\n"
          ]
        },
        {
          "output_type": "display_data",
          "data": {
            "text/plain": [
              "  0%|          | 0.00/233M [00:00<?, ?B/s]"
            ],
            "application/vnd.jupyter.widget-view+json": {
              "version_major": 2,
              "version_minor": 0,
              "model_id": "74a97e82e3e54658b1ef553729527ec3"
            }
          },
          "metadata": {}
        },
        {
          "output_type": "stream",
          "name": "stderr",
          "text": [
            "Downloading: \"https://download.pytorch.org/models/resnet18-f37072fd.pth\" to /root/.cache/torch/hub/checkpoints/resnet18-f37072fd.pth\n"
          ]
        },
        {
          "output_type": "display_data",
          "data": {
            "text/plain": [
              "  0%|          | 0.00/44.7M [00:00<?, ?B/s]"
            ],
            "application/vnd.jupyter.widget-view+json": {
              "version_major": 2,
              "version_minor": 0,
              "model_id": "632c1c53c07145b8b08dfcea7d8e37fa"
            }
          },
          "metadata": {}
        }
      ]
    },
    {
      "cell_type": "markdown",
      "source": [
        "##Trainings\n",
        "\n",
        "For clarity of the project, we will only display the best hyperparameters we got for each model train."
      ],
      "metadata": {
        "id": "P0PIO2izfXpj"
      }
    },
    {
      "cell_type": "markdown",
      "source": [
        "###AlexNet Source-Only/UDA Performance (Product > Real Life)"
      ],
      "metadata": {
        "id": "7dBGV2P-Nz2N"
      }
    },
    {
      "cell_type": "code",
      "source": [
        "model_opt = 'alexnet'\n",
        "opt='SGD'\n",
        "epochs = 50\n",
        "weight_decay = 0.0005\n",
        "momentum = 0.9\n",
        "lr = 0.001\n",
        "\n",
        "alex_so_history = fit_source_only( alexnet, epochs, p_train, p_test, rw_test, lr, weight_decay, model_opt, opt, momentum )"
      ],
      "metadata": {
        "id": "O6mk_kPOUego"
      },
      "execution_count": null,
      "outputs": []
    },
    {
      "cell_type": "code",
      "source": [
        "#save_log(alex_so_history,'{Project_Path}/History_logs/alex_so_history.pickle')"
      ],
      "metadata": {
        "id": "HfiD2o87lOcP"
      },
      "execution_count": null,
      "outputs": []
    },
    {
      "cell_type": "code",
      "source": [
        "model_opt = 'alexnet'  \n",
        "opt='SGD'  \n",
        "epochs = 50  \n",
        "weight_decay = 0.0005\n",
        "momentum = 0.9\n",
        "lr = 0.001\n",
        "\n",
        "alex_uda_history = fit_deep_coral( alexnet, epochs, p_train, p_test, rw_train, rw_test, lr, weight_decay, model_opt, opt, momentum )"
      ],
      "metadata": {
        "id": "6lRxn9NJVYbo"
      },
      "execution_count": null,
      "outputs": []
    },
    {
      "cell_type": "code",
      "source": [
        "#save_log(alex_uda_history,'{Project_Path}/History_logs/alex_uda_history.pickle')"
      ],
      "metadata": {
        "id": "DJ3MSViklau2"
      },
      "execution_count": null,
      "outputs": []
    },
    {
      "cell_type": "code",
      "source": [
        "alex_so_history = load_log('alex_so_history')\n",
        "alex_uda_history = load_log('alex_uda_history')"
      ],
      "metadata": {
        "id": "gdp35hNCgChU"
      },
      "execution_count": null,
      "outputs": []
    },
    {
      "cell_type": "code",
      "source": [
        "plot_losses(alex_so_history, alex_uda_history)"
      ],
      "metadata": {
        "id": "9y35erJGWT2W",
        "colab": {
          "base_uri": "https://localhost:8080/",
          "height": 295
        },
        "outputId": "b01dbb09-8455-4b21-ddbc-b0d3ddac2b86"
      },
      "execution_count": null,
      "outputs": [
        {
          "output_type": "display_data",
          "data": {
            "text/plain": [
              "<Figure size 432x288 with 1 Axes>"
            ],
            "image/png": "[encoded data removed]"
          },
          "metadata": {
            "needs_background": "light"
          }
        }
      ]
    },
    {
      "cell_type": "markdown",
      "source": [
        "###AlexNet Source-Only/UDA Performance (Real Life > Product)"
      ],
      "metadata": {
        "id": "xZ5ga_glN1g9"
      }
    },
    {
      "cell_type": "code",
      "source": [
        "model_opt = 'alexnet'\n",
        "opt='SGD'\n",
        "epochs = 50\n",
        "weight_decay = 0.0005\n",
        "momentum = 0.9\n",
        "lr = 0.001\n",
        "\n",
        "alex_so_history_od = fit_source_only( alexnet, epochs, rw_train, rw_test, p_test, lr, weight_decay, model_opt, opt, momentum )"
      ],
      "metadata": {
        "id": "sjl80UY3UibP"
      },
      "execution_count": null,
      "outputs": []
    },
    {
      "cell_type": "code",
      "source": [
        "#save_log(alex_so_history_od,'{Project_Path}/History_logs/alex_so_history_od.pickle')"
      ],
      "metadata": {
        "id": "pqXF3fsolm3u"
      },
      "execution_count": null,
      "outputs": []
    },
    {
      "cell_type": "code",
      "source": [
        "model_opt = 'alexnet'\n",
        "opt='SGD'\n",
        "epochs = 50\n",
        "weight_decay = 0.0005\n",
        "momentum = 0.9\n",
        "lr = 0.001\n",
        "\n",
        "alex_uda_history_od = fit_deep_coral( alexnet, epochs, rw_train, rw_test, p_train, p_test, lr, weight_decay,  model_opt , opt, momentum )"
      ],
      "metadata": {
        "id": "WIpFuSIrUqrA"
      },
      "execution_count": null,
      "outputs": []
    },
    {
      "cell_type": "code",
      "source": [
        "#save_log(alex_uda_history_od,'{Project_Path}/History_logs/alex_uda_history_od.pickle')"
      ],
      "metadata": {
        "id": "9D2wyr8WlwrO"
      },
      "execution_count": null,
      "outputs": []
    },
    {
      "cell_type": "code",
      "source": [
        "alex_so_history_od = load_log('alex_so_history_od')\n",
        "alex_uda_history_od = load_log('alex_uda_history_od')"
      ],
      "metadata": {
        "id": "2EVmHV0Dl0xL"
      },
      "execution_count": null,
      "outputs": []
    },
    {
      "cell_type": "code",
      "source": [
        "plot_losses(alex_so_history_od, alex_uda_history_od)"
      ],
      "metadata": {
        "id": "cF99K0lpVFiC",
        "colab": {
          "base_uri": "https://localhost:8080/",
          "height": 295
        },
        "outputId": "89bf6654-61da-449c-d692-00a8e1d61748"
      },
      "execution_count": null,
      "outputs": [
        {
          "output_type": "display_data",
          "data": {
            "text/plain": [
              "<Figure size 432x288 with 1 Axes>"
            ],
            "image/png": "[encoded data removed]"
          },
          "metadata": {
            "needs_background": "light"
          }
        }
      ]
    },
    {
      "cell_type": "markdown",
      "source": [
        "###ResNet18 Source-Only/UDA Performance (Product > Real Life)"
      ],
      "metadata": {
        "id": "MrSBkirKN2i1"
      }
    },
    {
      "cell_type": "code",
      "execution_count": null,
      "metadata": {
        "id": "tbiPbDCZuBFC"
      },
      "outputs": [],
      "source": [
        "model_opt = 'resnet18'\n",
        "opt='Adam'\n",
        "epochs = 100\n",
        "weight_decay = 0.0005\n",
        "lr = 0.0005\n",
        "\n",
        "resnet_so_history = fit_source_only( resnet18, epochs, p_train, p_test, rw_test, lr, weight_decay, model_opt, opt)"
      ]
    },
    {
      "cell_type": "code",
      "source": [
        "#save_log(resnet_so_history,'{Project_Path}/History_logs/resnet_so_history.pickle')"
      ],
      "metadata": {
        "id": "dPJEFlqSiZT9"
      },
      "execution_count": null,
      "outputs": []
    },
    {
      "cell_type": "code",
      "execution_count": null,
      "metadata": {
        "id": "lc-HputlBXpH"
      },
      "outputs": [],
      "source": [
        "model_opt = 'resnet18'\n",
        "opt='Adam'\n",
        "epochs = 80\n",
        "weight_decay = 0.0005\n",
        "lr = 0.0005\n",
        "\n",
        "resnet_uda_history = fit_deep_coral( resnet18, epochs, p_train, p_test,rw_train, rw_test, lr, weight_decay ,  model_opt , opt)"
      ]
    },
    {
      "cell_type": "code",
      "source": [
        "#save_log(resnet_uda_history,'{Project_Path}/History_logs/resnet_uda_history.pickle')"
      ],
      "metadata": {
        "id": "dySc1W1bigfH"
      },
      "execution_count": null,
      "outputs": []
    },
    {
      "cell_type": "code",
      "source": [
        "resnet_so_history = load_log('resnet_so_history')\n",
        "resnet_uda_history = load_log('resnet_uda_history')"
      ],
      "metadata": {
        "id": "McjNCgXih5ZP"
      },
      "execution_count": null,
      "outputs": []
    },
    {
      "cell_type": "code",
      "source": [
        "plot_losses(resnet_so_history[0:80], resnet_uda_history[0:80]) "
      ],
      "metadata": {
        "colab": {
          "base_uri": "https://localhost:8080/",
          "height": 295
        },
        "id": "GV95smmDiBnR",
        "outputId": "d27380ee-79de-4ba7-95ad-dcee2446a3f4"
      },
      "execution_count": null,
      "outputs": [
        {
          "output_type": "display_data",
          "data": {
            "text/plain": [
              "<Figure size 432x288 with 1 Axes>"
            ],
            "image/png": "[encoded data removed]"
          },
          "metadata": {
            "needs_background": "light"
          }
        }
      ]
    },
    {
      "cell_type": "markdown",
      "source": [
        "###ResNet18 Source-Only/UDA Performance ( Real Life > Product)"
      ],
      "metadata": {
        "id": "nbfw6IjfW9Kb"
      }
    },
    {
      "cell_type": "code",
      "source": [
        "model_opt = 'resnet18'\n",
        "opt='Adam'\n",
        "epochs = 100\n",
        "weight_decay = 0.0005\n",
        "lr = 0.0005\n",
        "\n",
        "resnet_so_history_od = fit_source_only( resnet18, epochs, rw_train, rw_test, p_test, lr, weight_decay , model_opt, opt)"
      ],
      "metadata": {
        "id": "t41u3WC9XDMx"
      },
      "execution_count": null,
      "outputs": []
    },
    {
      "cell_type": "code",
      "source": [
        "#save_log(resnet_so_history_od,'{Project_Path}/History_logs/resnet_so_history_od.pickle')"
      ],
      "metadata": {
        "id": "ayU6__45h3qs"
      },
      "execution_count": null,
      "outputs": []
    },
    {
      "cell_type": "code",
      "source": [
        "model_opt = 'resnet18'\n",
        "opt='Adam'\n",
        "epochs = 100\n",
        "weight_decay = 0.0005\n",
        "lr = 0.001\n",
        "\n",
        "resnet_uda_history_od = fit_deep_coral( resnet18, epochs, rw_train, rw_test, p_train, p_test, lr, weight_decay ,  model_opt , opt)"
      ],
      "metadata": {
        "id": "55W5W_pDXH3V"
      },
      "execution_count": null,
      "outputs": []
    },
    {
      "cell_type": "code",
      "source": [
        "#save_log(resnet_uda_history_od,'{Project_Path}/History_logs/resnet_uda_history_od.pickle')"
      ],
      "metadata": {
        "id": "74_aRHvwiGxz"
      },
      "execution_count": null,
      "outputs": []
    },
    {
      "cell_type": "code",
      "source": [
        "resnet_so_history_od = load_log('resnet_so_history_od')\n",
        "resnet_uda_history_od = load_log('resnet_uda_history_od')"
      ],
      "metadata": {
        "id": "iyIy7aiSeoRM"
      },
      "execution_count": null,
      "outputs": []
    },
    {
      "cell_type": "code",
      "source": [
        "plot_losses(resnet_so_history_od[0:80], resnet_uda_history_od[0:80])"
      ],
      "metadata": {
        "id": "3AXTsLTTXNNp",
        "colab": {
          "base_uri": "https://localhost:8080/",
          "height": 295
        },
        "outputId": "b247d675-dbf5-4dce-f5e4-a573473b7967"
      },
      "execution_count": null,
      "outputs": [
        {
          "output_type": "display_data",
          "data": {
            "text/plain": [
              "<Figure size 432x288 with 1 Axes>"
            ],
            "image/png": "[encoded data removed]"
          },
          "metadata": {
            "needs_background": "light"
          }
        }
      ]
    },
    {
      "cell_type": "markdown",
      "metadata": {
        "id": "r4_uioe3Ergt"
      },
      "source": [
        "#Conclusion\n",
        "In this section we will only retain the ResNet18 model since it outperformed AlexNet using Adam that performed better than SGD+Momentum.\n",
        "\n",
        "\n"
      ]
    },
    {
      "cell_type": "markdown",
      "source": [
        "To give a generalized result of the accuracy, we took the mean over the results starting from the 20th (when the model's performance gets stable) epoch until the end (80 epochs)"
      ],
      "metadata": {
        "id": "UW9WU-Lk7Cn-"
      }
    },
    {
      "cell_type": "code",
      "source": [
        "def get_accuracy_mean(data):\n",
        "  \"\"\"\n",
        "  This function computes the accuracy by mean.\n",
        "\n",
        "  \"\"\"\n",
        "  val = [x['Target_Test']['t_test_acc'] for x in data]\n",
        "  x = statistics.mean(val)\n",
        "  return x"
      ],
      "metadata": {
        "id": "p4k3zac87KLf"
      },
      "execution_count": null,
      "outputs": []
    },
    {
      "cell_type": "code",
      "source": [
        "acc_so = get_accuracy_mean(resnet_so_history[19:-1])\n",
        "acc_uda = get_accuracy_mean(resnet_uda_history[19:-1])\n",
        "acc_so_od = get_accuracy_mean(resnet_so_history_od[19:-1])\n",
        "acc_uda_od = get_accuracy_mean(resnet_uda_history_od[19:-1])\n",
        "table_avg = [['Version', 'P-->RW', 'RW-->P'], \n",
        "         ['Source Only', acc_so, acc_so_od], \n",
        "         ['DA', acc_uda, acc_uda_od],\n",
        "         ['GAIN', acc_uda-acc_so, acc_uda_od-acc_so_od]]\n",
        "print(tabulate(table_avg, headers='firstrow', tablefmt='fancy_grid'))"
      ],
      "metadata": {
        "colab": {
          "base_uri": "https://localhost:8080/"
        },
        "id": "sVyXZIsoJGgZ",
        "outputId": "64ee06af-3a40-47ea-8ddf-bc763f113972"
      },
      "execution_count": null,
      "outputs": [
        {
          "output_type": "stream",
          "name": "stdout",
          "text": [
            "╒═════════════╤══════════╤══════════╕\n",
            "│ Version     │   P-->RW │   RW-->P │\n",
            "╞═════════════╪══════════╪══════════╡\n",
            "│ Source Only │  66.9753 │ 87.7191  │\n",
            "├─────────────┼──────────┼──────────┤\n",
            "│ DA          │  80.0861 │ 90.8811  │\n",
            "├─────────────┼──────────┼──────────┤\n",
            "│ GAIN        │  13.1108 │  3.16201 │\n",
            "╘═════════════╧══════════╧══════════╛\n"
          ]
        }
      ]
    },
    {
      "cell_type": "markdown",
      "source": [
        "Note: By using the Maximum Accuracy achieved by the model instead of the Mean Accuracy, we would get these results:\n"
      ],
      "metadata": {
        "id": "jse99yul7tJf"
      }
    },
    {
      "cell_type": "code",
      "source": [
        "acc_so = max([x['Target_Test']['t_test_acc'] for x in resnet_so_history[19:-1]])\n",
        "acc_uda = max([x['Target_Test']['t_test_acc'] for x in resnet_uda_history[19:-1]])\n",
        "acc_so_od = max([x['Target_Test']['t_test_acc'] for x in resnet_so_history_od[19:-1]])\n",
        "acc_uda_od = max([x['Target_Test']['t_test_acc'] for x in resnet_uda_history_od[19:-1]])\n",
        "table_max = [['Version', 'P-->RW', 'RW-->P'], \n",
        "         ['Source Only', acc_so, acc_so_od], \n",
        "         ['DA', acc_uda, acc_uda_od],\n",
        "         ['GAIN', acc_uda-acc_so, acc_uda_od-acc_so_od]]\n",
        "print(tabulate(table_max, headers='firstrow', tablefmt='fancy_grid'))"
      ],
      "metadata": {
        "colab": {
          "base_uri": "https://localhost:8080/"
        },
        "id": "gTkiNG5fLU98",
        "outputId": "dd9efc84-31d7-4a2e-8994-ee491ded045e"
      },
      "execution_count": null,
      "outputs": [
        {
          "output_type": "stream",
          "name": "stdout",
          "text": [
            "╒═════════════╤══════════╤══════════╕\n",
            "│ Version     │   P-->RW │   RW-->P │\n",
            "╞═════════════╪══════════╪══════════╡\n",
            "│ Source Only │    71.25 │    89.25 │\n",
            "├─────────────┼──────────┼──────────┤\n",
            "│ DA          │    83    │    93.25 │\n",
            "├─────────────┼──────────┼──────────┤\n",
            "│ GAIN        │    11.75 │     4    │\n",
            "╘═════════════╧══════════╧══════════╛\n"
          ]
        }
      ]
    },
    {
      "cell_type": "markdown",
      "source": [
        "We'll plot the accuracies to see our model resides between the minimum bound (Real Life Test on Source Only of Product) and the Upper Bound (Real Life Test on Source Only of Real Life)."
      ],
      "metadata": {
        "id": "002ESuFknGj1"
      }
    },
    {
      "cell_type": "code",
      "source": [
        "plot_accuracies(resnet_so_history[0:80], resnet_uda_history, resnet_so_history_od[0:80])"
      ],
      "metadata": {
        "colab": {
          "base_uri": "https://localhost:8080/",
          "height": 295
        },
        "id": "ONtsQ9Hyo_z2",
        "outputId": "c30df40e-9449-439f-de1d-a7d84297049a"
      },
      "execution_count": null,
      "outputs": [
        {
          "output_type": "display_data",
          "data": {
            "text/plain": [
              "<Figure size 432x288 with 1 Axes>"
            ],
            "image/png": "[encoded data removed]"
          },
          "metadata": {
            "needs_background": "light"
          }
        }
      ]
    },
    {
      "cell_type": "markdown",
      "source": [
        "We'll plot the accuracies to see our model resides between the minimum bound (Product Test on Source Only of Real Life) and the Upper Bound (Product Test on Source Only of Product)."
      ],
      "metadata": {
        "id": "Uceza8Fm9evo"
      }
    },
    {
      "cell_type": "code",
      "source": [
        "plot_accuracies(resnet_so_history_od[0:80], resnet_uda_history_od, resnet_so_history[0:80])"
      ],
      "metadata": {
        "colab": {
          "base_uri": "https://localhost:8080/",
          "height": 295
        },
        "id": "XsrfeEp-pPPd",
        "outputId": "fadff72f-2d88-49e8-a5a0-d411bc0abdb1"
      },
      "execution_count": null,
      "outputs": [
        {
          "output_type": "display_data",
          "data": {
            "text/plain": [
              "<Figure size 432x288 with 1 Axes>"
            ],
            "image/png": "[encoded data removed]"
          },
          "metadata": {
            "needs_background": "light"
          }
        }
      ]
    },
    {
      "cell_type": "markdown",
      "source": [
        "As written in the paper, in the beginning the CORAL loss is very small while the\n",
        "classification loss is very large. After training for a few iterations, these\n",
        "two losses are about the same."
      ],
      "metadata": {
        "id": "Cb8xci7D9zL8"
      }
    },
    {
      "cell_type": "code",
      "source": [
        "plot_class_coral(resnet_uda_history)"
      ],
      "metadata": {
        "colab": {
          "base_uri": "https://localhost:8080/",
          "height": 295
        },
        "id": "m3ql5qxuxjHV",
        "outputId": "b20e28ca-e553-467d-aa24-cf5ec077e030"
      },
      "execution_count": null,
      "outputs": [
        {
          "output_type": "display_data",
          "data": {
            "text/plain": [
              "<Figure size 432x288 with 1 Axes>"
            ],
            "image/png": "[encoded data removed]"
          },
          "metadata": {
            "needs_background": "light"
          }
        }
      ]
    },
    {
      "cell_type": "code",
      "source": [
        "plot_class_coral(resnet_uda_history_od)"
      ],
      "metadata": {
        "colab": {
          "base_uri": "https://localhost:8080/",
          "height": 295
        },
        "id": "sP6tXsANxvbS",
        "outputId": "39c7d69f-f90e-4348-ab25-c38513e4f3bd"
      },
      "execution_count": null,
      "outputs": [
        {
          "output_type": "display_data",
          "data": {
            "text/plain": [
              "<Figure size 432x288 with 1 Axes>"
            ],
            "image/png": "[encoded data removed]"
          },
          "metadata": {
            "needs_background": "light"
          }
        }
      ]
    },
    {
      "cell_type": "markdown",
      "metadata": {
        "id": "CmXY7hRKEtV0"
      },
      "source": [
        "#Links and References\n",
        "\n",
        "[DeepCORAL: Correlation Alignment for Deep Domain Adaptation](https://arxiv.org/pdf/1607.01719.pdf)\n",
        "\n",
        "[Deep Domain Adaptation in Computer Vision](https://towardsdatascience.com/deep-domain-adaptation-in-computer-vision-8da398d3167f)\n",
        "\n",
        "[AlexNet Architecture Explained](https://medium.com/analytics-vidhya/alexnet-architecture-explained-5d19e3dca2bb)\n",
        "\n",
        "[An Overview of ResNet and its Variants](https://towardsdatascience.com/an-overview-of-resnet-and-its-variants-5281e2f56035)\n",
        "\n",
        "[A 2021 Guide to improving CNNs-Optimizers: Adam vs SGD](https://medium.com/geekculture/a-2021-guide-to-improving-cnns-optimizers-adam-vs-sgd-495848ac6008)\n",
        "\n",
        "[Understand the Dynamics of Learning rate on Deep Learning Neural Networks](https://machinelearningmastery.com/understand-the-dynamics-of-learning-rate-on-deep-learning-neural-networks/)\n",
        "\n",
        "[Why 0.9? Towards Better Momentum Strategies in Deep Learning.](https://towardsdatascience.com/why-0-9-towards-better-momentum-strategies-in-deep-learning-827408503650#:~:text=In%20deep%20learning%2C%20most%20practitioners,many%20popular%20deep%20learning%20packages)\n",
        "\n",
        "[How to Use Weight Decay to Reduce Overfitting](https://machinelearningmastery.com/how-to-reduce-overfitting-in-deep-learning-with-weight-regularization/)\n",
        "\n",
        "\n",
        "\n",
        "\n",
        "\n",
        "\n",
        "\n",
        "\n"
      ]
    }
  ],
  "metadata": {
    "accelerator": "GPU",
    "colab": {
      "collapsed_sections": [],
      "name": "UDA_DeepCORAL.ipynb",
      "provenance": []
    },
    "kernelspec": {
      "display_name": "Python 3",
      "name": "python3"
    },
    "language_info": {
      "name": "python"
    },
    "widgets": {
      "application/vnd.jupyter.widget-state+json": {
        "74a97e82e3e54658b1ef553729527ec3": {
          "model_module": "@jupyter-widgets/controls",
          "model_name": "HBoxModel",
          "model_module_version": "1.5.0",
          "state": {
            "_dom_classes": [],
            "_model_module": "@jupyter-widgets/controls",
            "_model_module_version": "1.5.0",
            "_model_name": "HBoxModel",
            "_view_count": null,
            "_view_module": "@jupyter-widgets/controls",
            "_view_module_version": "1.5.0",
            "_view_name": "HBoxView",
            "box_style": "",
            "children": [
              "IPY_MODEL_7bce5e8501b1437daf35e5ed698735a3",
              "IPY_MODEL_2df38dea2a7a42ddb8e81957d30ebff8",
              "IPY_MODEL_4cbba28c63d5405e9e7620bbd5a75d37"
            ],
            "layout": "IPY_MODEL_2fd10fcc424c45eb858240ce4d8acb31"
          }
        },
        "7bce5e8501b1437daf35e5ed698735a3": {
          "model_module": "@jupyter-widgets/controls",
          "model_name": "HTMLModel",
          "model_module_version": "1.5.0",
          "state": {
            "_dom_classes": [],
            "_model_module": "@jupyter-widgets/controls",
            "_model_module_version": "1.5.0",
            "_model_name": "HTMLModel",
            "_view_count": null,
            "_view_module": "@jupyter-widgets/controls",
            "_view_module_version": "1.5.0",
            "_view_name": "HTMLView",
            "description": "",
            "description_tooltip": null,
            "layout": "IPY_MODEL_3822c80c39d8498092c1abd9faef79a2",
            "placeholder": "​",
            "style": "IPY_MODEL_c1a135ec9cc443e6be469c39a2265686",
            "value": "100%"
          }
        },
        "2df38dea2a7a42ddb8e81957d30ebff8": {
          "model_module": "@jupyter-widgets/controls",
          "model_name": "FloatProgressModel",
          "model_module_version": "1.5.0",
          "state": {
            "_dom_classes": [],
            "_model_module": "@jupyter-widgets/controls",
            "_model_module_version": "1.5.0",
            "_model_name": "FloatProgressModel",
            "_view_count": null,
            "_view_module": "@jupyter-widgets/controls",
            "_view_module_version": "1.5.0",
            "_view_name": "ProgressView",
            "bar_style": "success",
            "description": "",
            "description_tooltip": null,
            "layout": "IPY_MODEL_c12e9acfddb4439cbcf3a999dd24b0ff",
            "max": 244408911,
            "min": 0,
            "orientation": "horizontal",
            "style": "IPY_MODEL_11b60c43bff6492bbb338a0fa42a8737",
            "value": 244408911
          }
        },
        "4cbba28c63d5405e9e7620bbd5a75d37": {
          "model_module": "@jupyter-widgets/controls",
          "model_name": "HTMLModel",
          "model_module_version": "1.5.0",
          "state": {
            "_dom_classes": [],
            "_model_module": "@jupyter-widgets/controls",
            "_model_module_version": "1.5.0",
            "_model_name": "HTMLModel",
            "_view_count": null,
            "_view_module": "@jupyter-widgets/controls",
            "_view_module_version": "1.5.0",
            "_view_name": "HTMLView",
            "description": "",
            "description_tooltip": null,
            "layout": "IPY_MODEL_a038c71050144c5a984af5b0666c6a9d",
            "placeholder": "​",
            "style": "IPY_MODEL_f5af2af7a68e49da91f88d6b188655e8",
            "value": " 233M/233M [00:01&lt;00:00, 234MB/s]"
          }
        },
        "2fd10fcc424c45eb858240ce4d8acb31": {
          "model_module": "@jupyter-widgets/base",
          "model_name": "LayoutModel",
          "model_module_version": "1.2.0",
          "state": {
            "_model_module": "@jupyter-widgets/base",
            "_model_module_version": "1.2.0",
            "_model_name": "LayoutModel",
            "_view_count": null,
            "_view_module": "@jupyter-widgets/base",
            "_view_module_version": "1.2.0",
            "_view_name": "LayoutView",
            "align_content": null,
            "align_items": null,
            "align_self": null,
            "border": null,
            "bottom": null,
            "display": null,
            "flex": null,
            "flex_flow": null,
            "grid_area": null,
            "grid_auto_columns": null,
            "grid_auto_flow": null,
            "grid_auto_rows": null,
            "grid_column": null,
            "grid_gap": null,
            "grid_row": null,
            "grid_template_areas": null,
            "grid_template_columns": null,
            "grid_template_rows": null,
            "height": null,
            "justify_content": null,
            "justify_items": null,
            "left": null,
            "margin": null,
            "max_height": null,
            "max_width": null,
            "min_height": null,
            "min_width": null,
            "object_fit": null,
            "object_position": null,
            "order": null,
            "overflow": null,
            "overflow_x": null,
            "overflow_y": null,
            "padding": null,
            "right": null,
            "top": null,
            "visibility": null,
            "width": null
          }
        },
        "3822c80c39d8498092c1abd9faef79a2": {
          "model_module": "@jupyter-widgets/base",
          "model_name": "LayoutModel",
          "model_module_version": "1.2.0",
          "state": {
            "_model_module": "@jupyter-widgets/base",
            "_model_module_version": "1.2.0",
            "_model_name": "LayoutModel",
            "_view_count": null,
            "_view_module": "@jupyter-widgets/base",
            "_view_module_version": "1.2.0",
            "_view_name": "LayoutView",
            "align_content": null,
            "align_items": null,
            "align_self": null,
            "border": null,
            "bottom": null,
            "display": null,
            "flex": null,
            "flex_flow": null,
            "grid_area": null,
            "grid_auto_columns": null,
            "grid_auto_flow": null,
            "grid_auto_rows": null,
            "grid_column": null,
            "grid_gap": null,
            "grid_row": null,
            "grid_template_areas": null,
            "grid_template_columns": null,
            "grid_template_rows": null,
            "height": null,
            "justify_content": null,
            "justify_items": null,
            "left": null,
            "margin": null,
            "max_height": null,
            "max_width": null,
            "min_height": null,
            "min_width": null,
            "object_fit": null,
            "object_position": null,
            "order": null,
            "overflow": null,
            "overflow_x": null,
            "overflow_y": null,
            "padding": null,
            "right": null,
            "top": null,
            "visibility": null,
            "width": null
          }
        },
        "c1a135ec9cc443e6be469c39a2265686": {
          "model_module": "@jupyter-widgets/controls",
          "model_name": "DescriptionStyleModel",
          "model_module_version": "1.5.0",
          "state": {
            "_model_module": "@jupyter-widgets/controls",
            "_model_module_version": "1.5.0",
            "_model_name": "DescriptionStyleModel",
            "_view_count": null,
            "_view_module": "@jupyter-widgets/base",
            "_view_module_version": "1.2.0",
            "_view_name": "StyleView",
            "description_width": ""
          }
        },
        "c12e9acfddb4439cbcf3a999dd24b0ff": {
          "model_module": "@jupyter-widgets/base",
          "model_name": "LayoutModel",
          "model_module_version": "1.2.0",
          "state": {
            "_model_module": "@jupyter-widgets/base",
            "_model_module_version": "1.2.0",
            "_model_name": "LayoutModel",
            "_view_count": null,
            "_view_module": "@jupyter-widgets/base",
            "_view_module_version": "1.2.0",
            "_view_name": "LayoutView",
            "align_content": null,
            "align_items": null,
            "align_self": null,
            "border": null,
            "bottom": null,
            "display": null,
            "flex": null,
            "flex_flow": null,
            "grid_area": null,
            "grid_auto_columns": null,
            "grid_auto_flow": null,
            "grid_auto_rows": null,
            "grid_column": null,
            "grid_gap": null,
            "grid_row": null,
            "grid_template_areas": null,
            "grid_template_columns": null,
            "grid_template_rows": null,
            "height": null,
            "justify_content": null,
            "justify_items": null,
            "left": null,
            "margin": null,
            "max_height": null,
            "max_width": null,
            "min_height": null,
            "min_width": null,
            "object_fit": null,
            "object_position": null,
            "order": null,
            "overflow": null,
            "overflow_x": null,
            "overflow_y": null,
            "padding": null,
            "right": null,
            "top": null,
            "visibility": null,
            "width": null
          }
        },
        "11b60c43bff6492bbb338a0fa42a8737": {
          "model_module": "@jupyter-widgets/controls",
          "model_name": "ProgressStyleModel",
          "model_module_version": "1.5.0",
          "state": {
            "_model_module": "@jupyter-widgets/controls",
            "_model_module_version": "1.5.0",
            "_model_name": "ProgressStyleModel",
            "_view_count": null,
            "_view_module": "@jupyter-widgets/base",
            "_view_module_version": "1.2.0",
            "_view_name": "StyleView",
            "bar_color": null,
            "description_width": ""
          }
        },
        "a038c71050144c5a984af5b0666c6a9d": {
          "model_module": "@jupyter-widgets/base",
          "model_name": "LayoutModel",
          "model_module_version": "1.2.0",
          "state": {
            "_model_module": "@jupyter-widgets/base",
            "_model_module_version": "1.2.0",
            "_model_name": "LayoutModel",
            "_view_count": null,
            "_view_module": "@jupyter-widgets/base",
            "_view_module_version": "1.2.0",
            "_view_name": "LayoutView",
            "align_content": null,
            "align_items": null,
            "align_self": null,
            "border": null,
            "bottom": null,
            "display": null,
            "flex": null,
            "flex_flow": null,
            "grid_area": null,
            "grid_auto_columns": null,
            "grid_auto_flow": null,
            "grid_auto_rows": null,
            "grid_column": null,
            "grid_gap": null,
            "grid_row": null,
            "grid_template_areas": null,
            "grid_template_columns": null,
            "grid_template_rows": null,
            "height": null,
            "justify_content": null,
            "justify_items": null,
            "left": null,
            "margin": null,
            "max_height": null,
            "max_width": null,
            "min_height": null,
            "min_width": null,
            "object_fit": null,
            "object_position": null,
            "order": null,
            "overflow": null,
            "overflow_x": null,
            "overflow_y": null,
            "padding": null,
            "right": null,
            "top": null,
            "visibility": null,
            "width": null
          }
        },
        "f5af2af7a68e49da91f88d6b188655e8": {
          "model_module": "@jupyter-widgets/controls",
          "model_name": "DescriptionStyleModel",
          "model_module_version": "1.5.0",
          "state": {
            "_model_module": "@jupyter-widgets/controls",
            "_model_module_version": "1.5.0",
            "_model_name": "DescriptionStyleModel",
            "_view_count": null,
            "_view_module": "@jupyter-widgets/base",
            "_view_module_version": "1.2.0",
            "_view_name": "StyleView",
            "description_width": ""
          }
        },
        "632c1c53c07145b8b08dfcea7d8e37fa": {
          "model_module": "@jupyter-widgets/controls",
          "model_name": "HBoxModel",
          "model_module_version": "1.5.0",
          "state": {
            "_dom_classes": [],
            "_model_module": "@jupyter-widgets/controls",
            "_model_module_version": "1.5.0",
            "_model_name": "HBoxModel",
            "_view_count": null,
            "_view_module": "@jupyter-widgets/controls",
            "_view_module_version": "1.5.0",
            "_view_name": "HBoxView",
            "box_style": "",
            "children": [
              "IPY_MODEL_18145cb9ccdc400fb50bfb6c06778d87",
              "IPY_MODEL_680e0e46da264e45b5437e910e8d170f",
              "IPY_MODEL_d6ff083395e74d0ca40d1dc88ba2c441"
            ],
            "layout": "IPY_MODEL_7dec7b584da54c009b2ba97c65265fd7"
          }
        },
        "18145cb9ccdc400fb50bfb6c06778d87": {
          "model_module": "@jupyter-widgets/controls",
          "model_name": "HTMLModel",
          "model_module_version": "1.5.0",
          "state": {
            "_dom_classes": [],
            "_model_module": "@jupyter-widgets/controls",
            "_model_module_version": "1.5.0",
            "_model_name": "HTMLModel",
            "_view_count": null,
            "_view_module": "@jupyter-widgets/controls",
            "_view_module_version": "1.5.0",
            "_view_name": "HTMLView",
            "description": "",
            "description_tooltip": null,
            "layout": "IPY_MODEL_377430a21eb04dc3b7d14038fc8bf772",
            "placeholder": "​",
            "style": "IPY_MODEL_6406c691b500411b8dd0f10da03d8107",
            "value": "100%"
          }
        },
        "680e0e46da264e45b5437e910e8d170f": {
          "model_module": "@jupyter-widgets/controls",
          "model_name": "FloatProgressModel",
          "model_module_version": "1.5.0",
          "state": {
            "_dom_classes": [],
            "_model_module": "@jupyter-widgets/controls",
            "_model_module_version": "1.5.0",
            "_model_name": "FloatProgressModel",
            "_view_count": null,
            "_view_module": "@jupyter-widgets/controls",
            "_view_module_version": "1.5.0",
            "_view_name": "ProgressView",
            "bar_style": "success",
            "description": "",
            "description_tooltip": null,
            "layout": "IPY_MODEL_1632f1bad55241ae8916171de35f5600",
            "max": 46830571,
            "min": 0,
            "orientation": "horizontal",
            "style": "IPY_MODEL_dd45ae63b2534cb38ae66441cb2b90a1",
            "value": 46830571
          }
        },
        "d6ff083395e74d0ca40d1dc88ba2c441": {
          "model_module": "@jupyter-widgets/controls",
          "model_name": "HTMLModel",
          "model_module_version": "1.5.0",
          "state": {
            "_dom_classes": [],
            "_model_module": "@jupyter-widgets/controls",
            "_model_module_version": "1.5.0",
            "_model_name": "HTMLModel",
            "_view_count": null,
            "_view_module": "@jupyter-widgets/controls",
            "_view_module_version": "1.5.0",
            "_view_name": "HTMLView",
            "description": "",
            "description_tooltip": null,
            "layout": "IPY_MODEL_9b073cf5707948a48a7b8e1f4ac3c21d",
            "placeholder": "​",
            "style": "IPY_MODEL_4b2a3ea7bf7341a89dcb5e8c39de3cfd",
            "value": " 44.7M/44.7M [00:00&lt;00:00, 210MB/s]"
          }
        },
        "7dec7b584da54c009b2ba97c65265fd7": {
          "model_module": "@jupyter-widgets/base",
          "model_name": "LayoutModel",
          "model_module_version": "1.2.0",
          "state": {
            "_model_module": "@jupyter-widgets/base",
            "_model_module_version": "1.2.0",
            "_model_name": "LayoutModel",
            "_view_count": null,
            "_view_module": "@jupyter-widgets/base",
            "_view_module_version": "1.2.0",
            "_view_name": "LayoutView",
            "align_content": null,
            "align_items": null,
            "align_self": null,
            "border": null,
            "bottom": null,
            "display": null,
            "flex": null,
            "flex_flow": null,
            "grid_area": null,
            "grid_auto_columns": null,
            "grid_auto_flow": null,
            "grid_auto_rows": null,
            "grid_column": null,
            "grid_gap": null,
            "grid_row": null,
            "grid_template_areas": null,
            "grid_template_columns": null,
            "grid_template_rows": null,
            "height": null,
            "justify_content": null,
            "justify_items": null,
            "left": null,
            "margin": null,
            "max_height": null,
            "max_width": null,
            "min_height": null,
            "min_width": null,
            "object_fit": null,
            "object_position": null,
            "order": null,
            "overflow": null,
            "overflow_x": null,
            "overflow_y": null,
            "padding": null,
            "right": null,
            "top": null,
            "visibility": null,
            "width": null
          }
        },
        "377430a21eb04dc3b7d14038fc8bf772": {
          "model_module": "@jupyter-widgets/base",
          "model_name": "LayoutModel",
          "model_module_version": "1.2.0",
          "state": {
            "_model_module": "@jupyter-widgets/base",
            "_model_module_version": "1.2.0",
            "_model_name": "LayoutModel",
            "_view_count": null,
            "_view_module": "@jupyter-widgets/base",
            "_view_module_version": "1.2.0",
            "_view_name": "LayoutView",
            "align_content": null,
            "align_items": null,
            "align_self": null,
            "border": null,
            "bottom": null,
            "display": null,
            "flex": null,
            "flex_flow": null,
            "grid_area": null,
            "grid_auto_columns": null,
            "grid_auto_flow": null,
            "grid_auto_rows": null,
            "grid_column": null,
            "grid_gap": null,
            "grid_row": null,
            "grid_template_areas": null,
            "grid_template_columns": null,
            "grid_template_rows": null,
            "height": null,
            "justify_content": null,
            "justify_items": null,
            "left": null,
            "margin": null,
            "max_height": null,
            "max_width": null,
            "min_height": null,
            "min_width": null,
            "object_fit": null,
            "object_position": null,
            "order": null,
            "overflow": null,
            "overflow_x": null,
            "overflow_y": null,
            "padding": null,
            "right": null,
            "top": null,
            "visibility": null,
            "width": null
          }
        },
        "6406c691b500411b8dd0f10da03d8107": {
          "model_module": "@jupyter-widgets/controls",
          "model_name": "DescriptionStyleModel",
          "model_module_version": "1.5.0",
          "state": {
            "_model_module": "@jupyter-widgets/controls",
            "_model_module_version": "1.5.0",
            "_model_name": "DescriptionStyleModel",
            "_view_count": null,
            "_view_module": "@jupyter-widgets/base",
            "_view_module_version": "1.2.0",
            "_view_name": "StyleView",
            "description_width": ""
          }
        },
        "1632f1bad55241ae8916171de35f5600": {
          "model_module": "@jupyter-widgets/base",
          "model_name": "LayoutModel",
          "model_module_version": "1.2.0",
          "state": {
            "_model_module": "@jupyter-widgets/base",
            "_model_module_version": "1.2.0",
            "_model_name": "LayoutModel",
            "_view_count": null,
            "_view_module": "@jupyter-widgets/base",
            "_view_module_version": "1.2.0",
            "_view_name": "LayoutView",
            "align_content": null,
            "align_items": null,
            "align_self": null,
            "border": null,
            "bottom": null,
            "display": null,
            "flex": null,
            "flex_flow": null,
            "grid_area": null,
            "grid_auto_columns": null,
            "grid_auto_flow": null,
            "grid_auto_rows": null,
            "grid_column": null,
            "grid_gap": null,
            "grid_row": null,
            "grid_template_areas": null,
            "grid_template_columns": null,
            "grid_template_rows": null,
            "height": null,
            "justify_content": null,
            "justify_items": null,
            "left": null,
            "margin": null,
            "max_height": null,
            "max_width": null,
            "min_height": null,
            "min_width": null,
            "object_fit": null,
            "object_position": null,
            "order": null,
            "overflow": null,
            "overflow_x": null,
            "overflow_y": null,
            "padding": null,
            "right": null,
            "top": null,
            "visibility": null,
            "width": null
          }
        },
        "dd45ae63b2534cb38ae66441cb2b90a1": {
          "model_module": "@jupyter-widgets/controls",
          "model_name": "ProgressStyleModel",
          "model_module_version": "1.5.0",
          "state": {
            "_model_module": "@jupyter-widgets/controls",
            "_model_module_version": "1.5.0",
            "_model_name": "ProgressStyleModel",
            "_view_count": null,
            "_view_module": "@jupyter-widgets/base",
            "_view_module_version": "1.2.0",
            "_view_name": "StyleView",
            "bar_color": null,
            "description_width": ""
          }
        },
        "9b073cf5707948a48a7b8e1f4ac3c21d": {
          "model_module": "@jupyter-widgets/base",
          "model_name": "LayoutModel",
          "model_module_version": "1.2.0",
          "state": {
            "_model_module": "@jupyter-widgets/base",
            "_model_module_version": "1.2.0",
            "_model_name": "LayoutModel",
            "_view_count": null,
            "_view_module": "@jupyter-widgets/base",
            "_view_module_version": "1.2.0",
            "_view_name": "LayoutView",
            "align_content": null,
            "align_items": null,
            "align_self": null,
            "border": null,
            "bottom": null,
            "display": null,
            "flex": null,
            "flex_flow": null,
            "grid_area": null,
            "grid_auto_columns": null,
            "grid_auto_flow": null,
            "grid_auto_rows": null,
            "grid_column": null,
            "grid_gap": null,
            "grid_row": null,
            "grid_template_areas": null,
            "grid_template_columns": null,
            "grid_template_rows": null,
            "height": null,
            "justify_content": null,
            "justify_items": null,
            "left": null,
            "margin": null,
            "max_height": null,
            "max_width": null,
            "min_height": null,
            "min_width": null,
            "object_fit": null,
            "object_position": null,
            "order": null,
            "overflow": null,
            "overflow_x": null,
            "overflow_y": null,
            "padding": null,
            "right": null,
            "top": null,
            "visibility": null,
            "width": null
          }
        },
        "4b2a3ea7bf7341a89dcb5e8c39de3cfd": {
          "model_module": "@jupyter-widgets/controls",
          "model_name": "DescriptionStyleModel",
          "model_module_version": "1.5.0",
          "state": {
            "_model_module": "@jupyter-widgets/controls",
            "_model_module_version": "1.5.0",
            "_model_name": "DescriptionStyleModel",
            "_view_count": null,
            "_view_module": "@jupyter-widgets/base",
            "_view_module_version": "1.2.0",
            "_view_name": "StyleView",
            "description_width": ""
          }
        }
      }
    }
  },
  "nbformat": 4,
  "nbformat_minor": 0
}